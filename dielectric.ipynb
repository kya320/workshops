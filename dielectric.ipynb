{
 "cells": [
  {
   "cell_type": "markdown",
   "metadata": {},
   "source": [
    "### Local electric field pattern in a dielectric"
   ]
  },
  {
   "cell_type": "code",
   "execution_count": null,
   "metadata": {},
   "outputs": [],
   "source": [
    "import numpy as np"
   ]
  },
  {
   "cell_type": "markdown",
   "metadata": {},
   "source": [
    "Define the properties of the carbon atom electron clouds in diamond."
   ]
  },
  {
   "cell_type": "code",
   "execution_count": null,
   "metadata": {},
   "outputs": [],
   "source": [
    "q = 4*1.602e-19 # charge of n=2 electrons\n",
    "a = 1.87e-13 # representative dipole separation\n",
    "alpha = 50e-12 # representative size of electron cloud\n",
    "delta = 1.53e-10 # atomic separation"
   ]
  },
  {
   "cell_type": "markdown",
   "metadata": {},
   "source": [
    "Define locations of atoms in crystal lattice."
   ]
  },
  {
   "cell_type": "code",
   "execution_count": null,
   "metadata": {},
   "outputs": [],
   "source": [
    "x = np.arange(-10, 10+1e-6, 1)*delta\n",
    "y = x.copy()\n",
    "z = x.copy()"
   ]
  },
  {
   "cell_type": "markdown",
   "metadata": {},
   "source": [
    "Define set of locations near centre of lattice to probe electric field strength."
   ]
  },
  {
   "cell_type": "code",
   "execution_count": null,
   "metadata": {},
   "outputs": [],
   "source": [
    "dx = np.arange(0, 1+1e-6, 0.5e-1)*delta\n",
    "dy = dx.copy()\n",
    "dz = np.arange(-0.5, 2.5+1e-6, 0.5e-1)*delta"
   ]
  },
  {
   "cell_type": "markdown",
   "metadata": {},
   "source": [
    "Define function to calculate local electric field (z-component) around dipoles."
   ]
  },
  {
   "cell_type": "code",
   "execution_count": null,
   "metadata": {},
   "outputs": [],
   "source": [
    "def local_field(dx, dy, dz):\n",
    "    E = np.zeros((len(dx), len(dy), len(dz)))\n",
    "    for i in range(0, len(x)):\n",
    "        for j in range(0, len(y)):\n",
    "            for k in range(0, len(z)):\n",
    "                #if not (x[i] == 0 and y[j] == 0 and z[k] == 0):\n",
    "                E = E + (q*a)*((3*(z[k] - dz[None,None,:])**2 - (x[i] - dx[:,None,None])**2 - (y[j] - dy[None,:,None])**2 - (z[k] - dz[None,None,:])**2 + alpha**2)/((x[i] - dx[:,None,None])**2 + (y[j] - dy[None,:,None])**2 + (z[k] - dz[None,None,:])**2 + alpha**2)**(5/2.))\n",
    "    return E"
   ]
  },
  {
   "cell_type": "markdown",
   "metadata": {},
   "source": [
    "Calculate z-component of local electric field at specified locations."
   ]
  },
  {
   "cell_type": "code",
   "execution_count": null,
   "metadata": {},
   "outputs": [],
   "source": [
    "E = local_field(dx, dy, dz)"
   ]
  },
  {
   "cell_type": "markdown",
   "metadata": {},
   "source": [
    "Calculate mean value of local electric field."
   ]
  },
  {
   "cell_type": "code",
   "execution_count": null,
   "metadata": {},
   "outputs": [],
   "source": [
    "mean = np.average(E)\n",
    "mean"
   ]
  },
  {
   "cell_type": "markdown",
   "metadata": {},
   "source": [
    "Create plot of local electric field at several cross-sections through the lattice."
   ]
  },
  {
   "cell_type": "code",
   "execution_count": null,
   "metadata": {},
   "outputs": [],
   "source": [
    "import matplotlib.pyplot as plt\n",
    "from matplotlib import rc\n",
    "\n",
    "fig, ax = plt.subplots(1, 1, figsize=(8, 6))\n",
    "\n",
    "rc('text', usetex=True)\n",
    "rc('font', size=13)\n",
    "rc('legend', fontsize=12.5)\n",
    "rc('font', **{'family': 'serif', 'serif': ['Computer Modern']})\n",
    "    \n",
    "ax.plot(dz, E[0,0,:], label='$x=0d$')\n",
    "ax.plot(dz, E[0,2,:], label='$x=0.1d$')\n",
    "ax.plot(dz, E[0,4,:], label='$x=0.2d$')\n",
    "ax.plot(dz, E[0,6,:], label='$x=0.3d$')\n",
    "ax.plot(dz, E[0,8,:], label='$x=0.4d$')\n",
    "ax.plot(dz, E[0,10,:], label='$x=0.5d$')\n",
    "\n",
    "ax.plot(dz, mean + 0*dz, 'grey', linestyle='dashed')\n",
    "\n",
    "ax.set_xlabel(r'$z$ (m)')\n",
    "ax.set_ylabel(r'$E_z$ (V m$^{-1}$)')\n",
    "\n",
    "ax.axvline(0, c='k')\n",
    "ax.axvline(delta, c='k')\n",
    "ax.axvline(2*delta, c='k')\n",
    "\n",
    "ax.legend(loc=1)\n",
    "ax.set_xlim(-0.5*delta,2.5*delta)\n",
    "\n",
    "plt.show()"
   ]
  },
  {
   "cell_type": "code",
   "execution_count": null,
   "metadata": {},
   "outputs": [],
   "source": []
  }
 ],
 "metadata": {
  "kernelspec": {
   "display_name": "Python 3",
   "language": "python",
   "name": "python3"
  },
  "language_info": {
   "codemirror_mode": {
    "name": "ipython",
    "version": 3
   },
   "file_extension": ".py",
   "mimetype": "text/x-python",
   "name": "python",
   "nbconvert_exporter": "python",
   "pygments_lexer": "ipython3",
   "version": "3.8.5"
  }
 },
 "nbformat": 4,
 "nbformat_minor": 4
}
