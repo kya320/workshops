{
 "cells": [
  {
   "cell_type": "markdown",
   "metadata": {},
   "source": [
    "### Optical waveguides"
   ]
  },
  {
   "cell_type": "markdown",
   "metadata": {},
   "source": [
    "Define function to plot Bessel function of the first kind of order m, and mark the first zero."
   ]
  },
  {
   "cell_type": "code",
   "execution_count": null,
   "metadata": {},
   "outputs": [],
   "source": [
    "import numpy as np\n",
    "from scipy import special\n",
    "from matplotlib import pyplot as plt\n",
    "from matplotlib import rc\n",
    "from matplotlib.ticker import FormatStrFormatter\n",
    "\n",
    "def Bessel_plotter(m, n):\n",
    "    # set up latex labels on plot (optional)\n",
    "    try:\n",
    "        rc('text', usetex=True) # can try usetex=False\n",
    "        rc('font', size=14)\n",
    "        rc('legend', fontsize=14)\n",
    "        rc('font', **{'family': 'serif', 'serif': ['Computer Modern']})\n",
    "    except:\n",
    "        pass    \n",
    "    \n",
    "    # create figure\n",
    "    fig, ax = plt.subplots(figsize=(7, 7))\n",
    "    \n",
    "    # set axis labels and limits\n",
    "    ax.set_xlabel(r'$x$')\n",
    "    ax.set_ylabel(r'$J_{:.0f}\\!\\;\\!\\,(x)$, $J_{:.0f}\\!\\,^\\prime(x)$'.format(m, m))\n",
    "\n",
    "    ## TE modes\n",
    "    # plot derivative of Bessel function of first kind and m'th order\n",
    "    x = np.linspace(0, 20, 1000, endpoint=True)\n",
    "    ax.plot(x, special.jvp(m, x), 'b', label='TE$\\!\\;\\!\\,_{}$$_{}$ mode'.format(m,n))\n",
    "    \n",
    "    # plot n'th zero of derivative of Bessel function\n",
    "    ax.plot(special.jnp_zeros(m, n)[-1], 0, 'gx')\n",
    "    \n",
    "    ## TM modes\n",
    "    # plot Bessel function of first kind and m'th order\n",
    "    x = np.linspace(0, 20, 1000, endpoint=True)\n",
    "    ax.plot(x, special.jv(m, x), 'r', label='TM$_{}$$_{}$ mode'.format(m,n))\n",
    "    \n",
    "    # plot n'th zero of Bessel function\n",
    "    ax.plot(special.jn_zeros(m, n)[-1], 0, 'gx')\n",
    "    \n",
    "    ax.legend()\n",
    "    \n",
    "    plt.show()"
   ]
  },
  {
   "cell_type": "code",
   "execution_count": null,
   "metadata": {},
   "outputs": [],
   "source": [
    "Bessel_plotter(1, 1)"
   ]
  },
  {
   "cell_type": "markdown",
   "metadata": {},
   "source": [
    "Define functions to calculate the cut-off wavelengths in an optical/circular waveguide."
   ]
  },
  {
   "cell_type": "code",
   "execution_count": null,
   "metadata": {},
   "outputs": [],
   "source": [
    "def TE_cutoff(m, n, radius):\n",
    "    # find n'th root of derivative of Bessel function of the first kind and m'th order\n",
    "    root = special.jnp_zeros(m, n)[-1]\n",
    "    \n",
    "    # find the cut-off wavenumber\n",
    "    kc = root/radius\n",
    "    \n",
    "    return 2*np.pi/kc\n",
    "\n",
    "def TM_cutoff(m, n, radius):\n",
    "    # find n 'th' root of Bessel function of the first kind and m'th order\n",
    "    root = special.jn_zeros(m, n)[-1]\n",
    "    \n",
    "    # find the cut-off wavenumber\n",
    "    kc = root/radius\n",
    "    \n",
    "    return 2*np.pi/kc"
   ]
  },
  {
   "cell_type": "code",
   "execution_count": null,
   "metadata": {},
   "outputs": [],
   "source": [
    "print(2*np.pi/TE_cutoff(1, 1, 1))\n",
    "print(3e8/TM_cutoff(1, 1, 1)/1e9)"
   ]
  },
  {
   "cell_type": "markdown",
   "metadata": {},
   "source": [
    "Define function to calculate the wavelength along the optical waveguide."
   ]
  },
  {
   "cell_type": "code",
   "execution_count": null,
   "metadata": {},
   "outputs": [],
   "source": [
    "def guide_wavelength(frequency, kappa_e, cutoff_wavelength):\n",
    "    # test if wavelength is greater than cut-off wavelength\n",
    "    if kappa_e*frequency**2/3e8**2 - 1./cutoff_wavelength**2 > 0:\n",
    "        return 1./np.sqrt(kappa_e*frequency**2/3e8**2 - 1./cutoff_wavelength**2)\n",
    "    else:\n",
    "        raise Exception('Wavelength less than cut-off wavelength.')"
   ]
  },
  {
   "cell_type": "code",
   "execution_count": null,
   "metadata": {},
   "outputs": [],
   "source": [
    "guide_wavelength(1e10, 1, TE_cutoff(1, 1, 1e-2))"
   ]
  },
  {
   "cell_type": "markdown",
   "metadata": {},
   "source": [
    "Define function to plot electric field pattern in the optical waveguide for a given mode."
   ]
  },
  {
   "cell_type": "code",
   "execution_count": null,
   "metadata": {},
   "outputs": [],
   "source": [
    "def guide_plotter(m, n, frequency, kappa_e, radius, mode='TE'):\n",
    "    # set up latex labels on plot (optional)\n",
    "    try:\n",
    "        rc('text', usetex=True) # can try usetex=False\n",
    "        rc('font', size=14)\n",
    "        rc('legend', fontsize=14)\n",
    "        rc('font', **{'family': 'serif', 'serif': ['Computer Modern']})\n",
    "    except:\n",
    "        pass\n",
    "\n",
    "    # create figure\n",
    "    fig, ax = plt.subplots(figsize=(7, 7))\n",
    "\n",
    "    # set axis labels and limits\n",
    "    ax.set_xlabel(r'$y$ (m)')\n",
    "    ax.set_ylabel(r'$z$ (m)')\n",
    "    ax.set_aspect('equal')\n",
    "    ax.xaxis.set_major_formatter(FormatStrFormatter('%g'))\n",
    "    ax.yaxis.set_major_formatter(FormatStrFormatter('%g'))\n",
    "    \n",
    "    # define grid of y and z values\n",
    "    y = np.linspace(-radius, radius, 512, endpoint=True)\n",
    "    z = np.linspace(-radius, radius, 512, endpoint=True)\n",
    "    Y, Z = np.meshgrid(y, z)\n",
    "    \n",
    "    # convert cartesian grid coordinates to cylindrical coordinates\n",
    "    R = np.sqrt(Y**2 + Z**2)\n",
    "    PHI = np.arctan(Z/Y) % np.pi\n",
    "    PHI[Z < 0] = PHI[Z < 0] - np.pi # check quadrant\n",
    "    \n",
    "    # calculate cylindrical electric field components\n",
    "    if mode=='TE':\n",
    "        E_r, E_phi, E_x = TE_electric_field(m, n, frequency, kappa_e, radius, R, PHI)\n",
    "    else:\n",
    "        E_r, E_phi, E_x = TM_electric_field(m, n, frequency, kappa_e, radius, R, PHI)\n",
    "    \n",
    "    # plot heatmaps of (r, phi, x) electric field components\n",
    "    E_norm = np.sqrt(E_r**2 + E_phi**2 + E_x**2)/np.nanmax(np.sqrt(E_r**2 + E_phi**2 + E_x**2))\n",
    "    ax.pcolor(Y, Z, E_norm, shading='nearest', cmap='viridis', vmin=0, vmax=1)\n",
    "\n",
    "    plt.show()\n",
    "    \n",
    "def TE_electric_field(m, n, frequency, kappa_e, radius, R, PHI):\n",
    "    # find cut-off wavelength\n",
    "    cutoff_wavelength = TE_cutoff(m, n, radius)\n",
    "    # find wavelength along the waveguide\n",
    "    gw = guide_wavelength(frequency, kappa_e, cutoff_wavelength)    \n",
    "    \n",
    "    # calculate (r, phi, x) components of electric field\n",
    "    E_r = -1./(2*np.pi/cutoff_wavelength)**2*m/R*special.jv(m, 2*np.pi*R/cutoff_wavelength)*np.sin(m*PHI)\n",
    "    E_phi = 1./(2*np.pi/cutoff_wavelength)*special.jvp(m, 2*np.pi*R/cutoff_wavelength)*np.cos(m*PHI)\n",
    "    E_x = 0*R\n",
    "    \n",
    "    # remove electric fields beyond waveguide\n",
    "    E_r[R > radius] = np.nan\n",
    "    E_phi[R > radius] = np.nan   \n",
    "    E_x[R > radius] = np.nan\n",
    "    \n",
    "    return E_r, E_phi, E_x\n",
    "\n",
    "def TM_electric_field(m, n, frequency, kappa_e, radius, R, PHI):\n",
    "    # find cut-off wavelength\n",
    "    cutoff_wavelength = TM_cutoff(m, n, radius)\n",
    "    # find wavelength along the waveguide\n",
    "    gw = guide_wavelength(frequency, kappa_e, cutoff_wavelength)\n",
    "    \n",
    "    # calculate (r, phi, x) components of electric field\n",
    "    E_r = -(2*np.pi/gw)*special.jvp(m, 2*np.pi*R/cutoff_wavelength)*np.sin(m*PHI)\n",
    "    E_phi = -1./(2*np.pi/cutoff_wavelength)*m/R*(2*np.pi/gw)*special.jv(m, 2*np.pi*R/cutoff_wavelength)*np.cos(m*PHI)\n",
    "    E_x = special.jv(m, 2*np.pi*R/cutoff_wavelength)*np.cos(m*PHI)\n",
    "    \n",
    "    # remove electric fields beyond waveguide\n",
    "    E_r[R > radius] = np.nan\n",
    "    E_phi[R > radius] = np.nan   \n",
    "    E_x[R > radius] = np.nan\n",
    "    \n",
    "    return E_r, E_phi, E_x"
   ]
  },
  {
   "cell_type": "code",
   "execution_count": null,
   "metadata": {},
   "outputs": [],
   "source": [
    "guide_plotter(1, 2, 1e15, 1, 0.01, mode='TM')"
   ]
  },
  {
   "cell_type": "code",
   "execution_count": null,
   "metadata": {},
   "outputs": [],
   "source": []
  }
 ],
 "metadata": {
  "kernelspec": {
   "display_name": "Python 3",
   "language": "python",
   "name": "python3"
  },
  "language_info": {
   "codemirror_mode": {
    "name": "ipython",
    "version": 3
   },
   "file_extension": ".py",
   "mimetype": "text/x-python",
   "name": "python",
   "nbconvert_exporter": "python",
   "pygments_lexer": "ipython3",
   "version": "3.8.5"
  }
 },
 "nbformat": 4,
 "nbformat_minor": 4
}
