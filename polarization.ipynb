{
 "cells": [
  {
   "cell_type": "markdown",
   "metadata": {},
   "source": [
    "### Polarization"
   ]
  },
  {
   "cell_type": "markdown",
   "metadata": {},
   "source": [
    "Define x- and y- components of the electric field."
   ]
  },
  {
   "cell_type": "code",
   "execution_count": null,
   "metadata": {},
   "outputs": [],
   "source": [
    "E_1 = 2 # V/m\n",
    "E_2 = 1 # V/m\n",
    "frequency = 1e9 # Hz\n",
    "delta = 30 # degrees\n",
    "phase = 0 # degrees"
   ]
  },
  {
   "cell_type": "markdown",
   "metadata": {},
   "source": [
    "Define a vector of times to sample electric (and magnetic) field vectors over one period."
   ]
  },
  {
   "cell_type": "code",
   "execution_count": null,
   "metadata": {},
   "outputs": [],
   "source": [
    "times = np.arange(0, 1./frequency, (1./frequency)/180)"
   ]
  },
  {
   "cell_type": "markdown",
   "metadata": {},
   "source": [
    "Define function to calculate electric field vectors at $z = 0$ as a function of time."
   ]
  },
  {
   "cell_type": "code",
   "execution_count": null,
   "metadata": {},
   "outputs": [],
   "source": [
    "import numpy as np\n",
    "\n",
    "def electric_field_vectors(E_1, E_2, delta, phase, frequency, times):\n",
    "    \n",
    "    # x-component of electric field at z = 0 (assuming phase constant is zero)\n",
    "    E_x = E_1*np.exp(1j*(2*np.pi*frequency*times - 0 + phase*np.pi/180.))\n",
    "    \n",
    "    # y-component of electric field at z = 0 (assuming phase constant is zero)\n",
    "    E_y = E_2*np.exp(1j*(2*np.pi*frequency*times - 0 + phase*np.pi/180. * delta*np.pi/180.))\n",
    "    \n",
    "    return E_x, E_y"
   ]
  },
  {
   "cell_type": "markdown",
   "metadata": {},
   "source": [
    "Define function to plot electric field vectors at a given time."
   ]
  },
  {
   "cell_type": "code",
   "execution_count": null,
   "metadata": {},
   "outputs": [],
   "source": [
    "from matplotlib import pyplot as plt\n",
    "from matplotlib import rc\n",
    "\n",
    "# function to set up plot\n",
    "def electric_field_plotter(E_1, E_2, delta, phase, frequency, times, i=0):\n",
    "\n",
    "    # set up latex labels on plot (optional) \n",
    "    rc('text', usetex=True)\n",
    "    rc('font', size=14)\n",
    "    rc('legend', fontsize=14)\n",
    "    rc('font', **{'family': 'serif', 'serif': ['Computer Modern']})\n",
    "\n",
    "    # create figure\n",
    "    fig, ax = plt.subplots(figsize=(7.5, 7.5))\n",
    "    \n",
    "    # set axis labels\n",
    "    ax.set_xlabel(r'$E_x$ ($\\rm V\\, m^{-1}$)')\n",
    "    ax.set_ylabel(r'$E_y$ ($\\rm V\\, m^{-1}$)')\n",
    "    \n",
    "    # set axis limits\n",
    "    limit = 1.2*max(E_1, E_2)\n",
    "    ax.set_xlim([-limit, limit])\n",
    "    ax.set_ylim([-limit, limit])\n",
    "    ax.set_aspect('equal')\n",
    "    \n",
    "    # add vector to plot\n",
    "    ax = __plot_frame(ax, E_1, E_2, delta, phase, frequency, times, i)\n",
    "\n",
    "    plt.show()\n",
    "\n",
    "# function to add vector to plot\n",
    "def __plot_frame(ax, E_1, E_2, delta, phase, frequency, times, i=0):\n",
    "\n",
    "    # find electric field vectors at this time step\n",
    "    if isinstance(times, (list, np.ndarray)):\n",
    "        E_x, E_y = electric_field_vectors(E_1, E_2, delta, phase, frequency, times[i])\n",
    "    else:\n",
    "        E_x, E_y = electric_field_vectors(E_1, E_2, delta, phase, frequency, times)\n",
    "        \n",
    "    # define a variable to scale dimensions of arrow head\n",
    "    arrow_width = max(E_1, E_2)/500.\n",
    "    \n",
    "    ax.arrow(0, 0, E_x.real, E_y.real, color='blue', width=arrow_width, \\\n",
    "             head_length=15*arrow_width, head_width=12.5*arrow_width)\n",
    "    \n",
    "    return ax"
   ]
  },
  {
   "cell_type": "code",
   "execution_count": null,
   "metadata": {},
   "outputs": [],
   "source": [
    "electric_field_plotter(E_1, E_2, delta, phase, frequency, times, i=20)"
   ]
  },
  {
   "cell_type": "code",
   "execution_count": null,
   "metadata": {},
   "outputs": [],
   "source": [
    "from matplotlib import animation\n",
    "from matplotlib.animation import FuncAnimation\n",
    "from matplotlib.patches import FancyArrow\n",
    "\n",
    "def electric_field_animation(E_1, E_2, delta, frequency, times):\n",
    "    \n",
    "    # set up latex labels on plot (optional) \n",
    "    rc('text', usetex=True)\n",
    "    rc('font', size=14)\n",
    "    rc('legend', fontsize=14)\n",
    "    rc('font', **{'family': 'serif', 'serif': ['Computer Modern']})\n",
    "\n",
    "    # create figure\n",
    "    fig, ax = plt.subplots(figsize=(7.5, 7.5))\n",
    "    \n",
    "    # set axis labels\n",
    "    ax.set_xlabel(r'$E_x$ ($\\rm V\\, m^{-1}$)')\n",
    "    ax.set_ylabel(r'$E_y$ ($\\rm V\\, m^{-1}$)')\n",
    "    \n",
    "    # set axis limits\n",
    "    limit = 1.2*max(E_1, E_2)\n",
    "    ax.set_xlim([-limit, limit])\n",
    "    ax.set_ylim([-limit, limit])\n",
    "    ax.set_aspect('equal')    \n",
    "    \n",
    "    # add text label\n",
    "    text = ax.text(0.95*limit, -0.95*limit, r'$t = $ '+'{:.3g}'.format(times[0])+' s', ha='right')\n",
    "\n",
    "    # create animation\n",
    "    anim = FuncAnimation(fig, __animate_frame, frames=len(times), interval=1./len(times), \\\n",
    "                         blit=True, fargs=(ax, E_1, E_2, delta, frequency, times, text))\n",
    "    plt.close()\n",
    "    \n",
    "    return anim\n",
    "\n",
    "def __animate_frame(i, ax, E_1, E_2, delta, frequency, times, text):\n",
    "    \n",
    "    # remove previous arrow for efficiency \n",
    "    for child in ax.get_children():\n",
    "        if isinstance(child, FancyArrow):\n",
    "            child.remove()\n",
    "    \n",
    "    # add vector to plot\n",
    "    __plot_frame(ax, E_1, E_2, delta, frequency, times, i)\n",
    "    \n",
    "    text.set_text(r'$t = $ '+'{:.3g}'.format(times[i])+'\\,s')\n",
    "    \n",
    "    return text,"
   ]
  },
  {
   "cell_type": "code",
   "execution_count": null,
   "metadata": {},
   "outputs": [],
   "source": [
    "anim = electric_field_animation(E_1, E_2, delta, frequency, times)"
   ]
  },
  {
   "cell_type": "code",
   "execution_count": null,
   "metadata": {},
   "outputs": [],
   "source": [
    "f = \"animation.mp4\"\n",
    "writervideo = animation.FFMpegWriter(fps=len(times)/(2*np.pi))\n",
    "anim.save(f, writer=writervideo, dpi=300)"
   ]
  }
 ],
 "metadata": {
  "kernelspec": {
   "display_name": "Python 3",
   "language": "python",
   "name": "python3"
  },
  "language_info": {
   "codemirror_mode": {
    "name": "ipython",
    "version": 3
   },
   "file_extension": ".py",
   "mimetype": "text/x-python",
   "name": "python",
   "nbconvert_exporter": "python",
   "pygments_lexer": "ipython3",
   "version": "3.8.5"
  }
 },
 "nbformat": 4,
 "nbformat_minor": 4
}
