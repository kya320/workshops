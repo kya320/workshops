{
 "cells": [
  {
   "cell_type": "markdown",
   "metadata": {},
   "source": [
    "### Linear Arrays"
   ]
  },
  {
   "cell_type": "markdown",
   "metadata": {},
   "source": [
    "#### General functions"
   ]
  },
  {
   "cell_type": "code",
   "execution_count": null,
   "metadata": {},
   "outputs": [],
   "source": [
    "import numpy as np\n",
    "from matplotlib import pyplot as plt\n",
    "from matplotlib import rc\n",
    "from matplotlib.colors import LogNorm\n",
    "\n",
    "light_speed = 2.99792458e8\n",
    "mu_0 = 4*np.pi*1e-7\n",
    "epsilon_0 = 1/(mu_0*light_speed**2)"
   ]
  },
  {
   "cell_type": "markdown",
   "metadata": {},
   "source": [
    "Define function to plot contours in 2D plane."
   ]
  },
  {
   "cell_type": "code",
   "execution_count": null,
   "metadata": {},
   "outputs": [],
   "source": [
    "def surface_plot_three_panel(X, Y, Z, XY, XZ, YZ):\n",
    "    # set up latex labels on plot (optional)\n",
    "    try:\n",
    "        rc('text', usetex=True) # can try usetex=False\n",
    "        rc('font', size=12)\n",
    "        rc('legend', fontsize=12)\n",
    "        rc('font', **{'family': 'serif', 'serif': ['Computer Modern']})\n",
    "    except:\n",
    "        pass    \n",
    "    \n",
    "    # create figure\n",
    "    fig, ax = plt.subplots(1, 3, figsize=(14, 4))\n",
    "    \n",
    "    # set axis labels and limits\n",
    "    ax[0].set_xlabel(r'$x (m)$')\n",
    "    ax[0].set_ylabel(r'$y (m)$')\n",
    "    ax[0].set_aspect(1)\n",
    "    ax[1].set_xlabel(r'$y (m)$')\n",
    "    ax[1].set_ylabel(r'$z (m)$')\n",
    "    ax[1].set_aspect(1)\n",
    "    ax[2].set_xlabel(r'$z (m)$')\n",
    "    ax[2].set_ylabel(r'$x (m)$')\n",
    "    ax[2].set_aspect(1)\n",
    "    \n",
    "    # plot surface map\n",
    "    lims = np.concatenate((XY.flatten(), XZ.flatten(), YZ.flatten()))\n",
    "    ax[0].pcolor(X[:,:,0], Y[:,:,0], XY, norm=LogNorm(vmin=np.nanquantile(lims, 0.16), vmax=np.nanquantile(lims, 0.975)))\n",
    "    ax[1].pcolor(Y[0,:,:], Z[0,:,:], YZ, norm=LogNorm(vmin=np.nanquantile(lims, 0.16), vmax=np.nanquantile(lims, 0.975)))\n",
    "    ax[2].pcolor(Z[:,0,:], X[:,0,:], np.transpose(XZ), norm=LogNorm(vmin=np.nanquantile(lims, 0.16), vmax=np.nanquantile(lims, 0.975)))\n",
    "    \n",
    "    plt.show()  \n",
    "\n",
    "    return fig"
   ]
  },
  {
   "cell_type": "markdown",
   "metadata": {},
   "source": [
    "#### Workshop functions"
   ]
  },
  {
   "cell_type": "markdown",
   "metadata": {},
   "source": [
    "Define function to calculate the field components of a half-wave dipole."
   ]
  },
  {
   "cell_type": "code",
   "execution_count": null,
   "metadata": {},
   "outputs": [],
   "source": [
    "def half_wave_dipole(radius, theta, phase=0., frequency=1e9, time=0., i0=1., kappa_e=1., kappa_m=1.):\n",
    "\n",
    "    # calculate the phase velocity\n",
    "    phase_velocity = light_speed/np.sqrt(kappa_e*kappa_m)\n",
    "\n",
    "    # calculate electric and magnetic field components\n",
    "    E_theta = ...\n",
    "    B_phi = ...\n",
    "\n",
    "    return E_theta, B_phi"
   ]
  },
  {
   "cell_type": "markdown",
   "metadata": {},
   "source": [
    "Define function to calculate the field pattern from the dipole in cartesian coordinates - there is logic here."
   ]
  },
  {
   "cell_type": "code",
   "execution_count": null,
   "metadata": {},
   "outputs": [],
   "source": [
    "def half_wave_dipole_cartesian(x, y, z, phase=0., frequency=1e9, time=0., i0=1., kappa_e=1., kappa_m=1.):\n",
    "\n",
    "    # convert input cartesian coordinates into spherical coordinates\n",
    "    radius = np.sqrt(x**2 + y**2 + z**2)\n",
    "    theta = np.arccos(z/radius)\n",
    "    phi = np.arctan2(y, x)\n",
    "\n",
    "    # call spherical function to find electric and magnetic fields\n",
    "    E_theta, B_phi = half_wave_dipole(radius, theta, phase=phase, frequency=frequency, time=time, i0=i0, kappa_e=kappa_e, kappa_m=kappa_m)\n",
    "\n",
    "    # convert electric and magnetic field vectors back to cartesian coordinates\n",
    "    E_x, E_y, E_z = ..., ..., ...\n",
    "    B_x, B_y, B_z = -B_phi*np.sin(phi), B_phi*np.cos(phi), B_phi*0\n",
    "\n",
    "    return np.asarray([E_x, E_y, E_z]), np.asarray([B_x, B_y, B_z])"
   ]
  },
  {
   "cell_type": "markdown",
   "metadata": {},
   "source": [
    "Define function to calculate field contribution from an array of dipoles with given $(x,y,z)$ locations and phase offsets."
   ]
  },
  {
   "cell_type": "code",
   "execution_count": null,
   "metadata": {},
   "outputs": [],
   "source": [
    "def dipole_array(x, y, z, dipole_x, dipole_y, dipole_z, dipole_phase, frequency=1e9, time=0., i0=1., kappa_e=1., kappa_m=1.):\n",
    "\n",
    "    # create vectors to store field components\n",
    "    E_vector = np.zeros(3)\n",
    "    B_vector = np.zeros(3)\n",
    "    S_vector = np.zeros(3)\n",
    "    \n",
    "    # sum field contributions from each dipole in the array\n",
    "    if not isinstance(dipole_x, (list, np.ndarray)):\n",
    "        dipole_x, dipole_y, dipole_z, dipole_phase = [dipole_x], [dipole_y], [dipole_z], [dipole_phase]\n",
    "    for i in range(0, len(dipole_x)):\n",
    "        E, B = half_wave_dipole_cartesian(x - dipole_x[i], y - dipole_y[i], z - dipole_z[i], phase=dipole_phase[i], \\\n",
    "                        frequency=frequency, time=time, i0=i0, kappa_e=kappa_e, kappa_m=kappa_m)\n",
    "        E_vector = E_vector + E\n",
    "        B_vector = B_vector + B\n",
    "\n",
    "    # calculate power from field components\n",
    "    S_vector[0] = ...\n",
    "    S_vector[1] = ...\n",
    "    S_vector[2] = ...\n",
    "\n",
    "    return E_vector, B_vector, S_vector"
   ]
  },
  {
   "cell_type": "code",
   "execution_count": null,
   "metadata": {},
   "outputs": [],
   "source": [
    "def plot_radiation_pattern(dipole_x, dipole_y, dipole_z, dipole_phase, frequency=1e9, time=0., i0=1., kappa_e=1., kappa_m=1.):\n",
    "\n",
    "    # calculate the wavelength\n",
    "    wavelength = light_speed/frequency\n",
    "\n",
    "    # create meshgrids\n",
    "    points = np.linspace(-100*wavelength, 100*wavelength + 1e-9, 200)\n",
    "    X, Y, Z = np.meshgrid(points, points, points, indexing='ij')\n",
    "    \n",
    "    # plot in xy-plane\n",
    "    power_xy = np.zeros_like(X[:,:,0])\n",
    "    for i in range(0, len(X[:,0,0])):\n",
    "        for j in range(0, len(Y[0,:,0])):\n",
    "            E_vector, B_vector, S_vector = dipole_array(X[i,j,0], Y[i,j,0], 0, dipole_x, dipole_y, dipole_z, dipole_phase, frequency=frequency)\n",
    "            power_xy[i, j] = np.abs(S_vector[0]) + np.abs(S_vector[1]) + np.abs(S_vector[2])   \n",
    "    \n",
    "    # plot in xz-plane\n",
    "    power_xz = np.zeros_like(X[:,0,:])\n",
    "    for i in range(0, len(X[:,0,0])):\n",
    "        for j in range(0, len(Z[0,0,:])):\n",
    "            E_vector, B_vector, S_vector = dipole_array(X[i,0,j], 0, Z[i,0,j], dipole_x, dipole_y, dipole_z, dipole_phase, frequency=frequency)\n",
    "            power_xz[i, j] = np.abs(S_vector[0]) + np.abs(S_vector[1]) + np.abs(S_vector[2])  \n",
    "\n",
    "    # plot in yz-plane\n",
    "    power_yz = np.zeros_like(X[0,:,:])\n",
    "    for i in range(0, len(Y[0,:,0])):\n",
    "        for j in range(0, len(Z[0,0,:])):\n",
    "            E_vector, B_vector, S_vector = dipole_array(0, Y[0,i,j], Z[0,i,j], dipole_x, dipole_y, dipole_z, dipole_phase, frequency=frequency)\n",
    "            power_yz[i, j] = np.abs(S_vector[0]) + np.abs(S_vector[1]) + np.abs(S_vector[2]) \n",
    "\n",
    "    # create three panel plot of radiated power\n",
    "    fig = surface_plot_three_panel(X, Y, Z, power_xy, power_xz, power_yz)\n",
    "\n",
    "    return fig"
   ]
  },
  {
   "cell_type": "markdown",
   "metadata": {},
   "source": [
    "### Parallel half-wave dipoles space by $\\lambda/2$ (along $x$-axis)"
   ]
  },
  {
   "cell_type": "markdown",
   "metadata": {},
   "source": [
    "Set location of dipoles, and their relative phases."
   ]
  },
  {
   "cell_type": "code",
   "execution_count": null,
   "metadata": {},
   "outputs": [],
   "source": [
    "frequency = 1e9\n",
    "wavelength = light_speed/frequency"
   ]
  },
  {
   "cell_type": "code",
   "execution_count": null,
   "metadata": {},
   "outputs": [],
   "source": [
    "dipole_x = [-wavelength/4, wavelength/4]\n",
    "dipole_y = [0, 0]\n",
    "dipole_z = [0, 0]\n",
    "dipole_phase = [0, 0]"
   ]
  },
  {
   "cell_type": "code",
   "execution_count": null,
   "metadata": {},
   "outputs": [],
   "source": [
    "plot_radiation_pattern(dipole_x, dipole_y, dipole_z, dipole_phase)"
   ]
  },
  {
   "cell_type": "markdown",
   "metadata": {},
   "source": [
    "### Out-of-phase parallel half-wave dipoles space by $\\lambda/2$ (along $x$-axis)"
   ]
  },
  {
   "cell_type": "code",
   "execution_count": null,
   "metadata": {},
   "outputs": [],
   "source": [
    "dipole_x = [-wavelength/4, wavelength/4]\n",
    "dipole_y = [0, 0]\n",
    "dipole_z = [0, 0]\n",
    "dipole_phase = [-np.pi/2, np.pi/2]"
   ]
  },
  {
   "cell_type": "code",
   "execution_count": null,
   "metadata": {},
   "outputs": [],
   "source": [
    "plot_radiation_pattern(dipole_x, dipole_y, dipole_z, dipole_phase)"
   ]
  },
  {
   "cell_type": "markdown",
   "metadata": {},
   "source": [
    "### Array of eight parallel half-wave dipoles space by $\\lambda/2$ (along $x$-axis)"
   ]
  },
  {
   "cell_type": "code",
   "execution_count": null,
   "metadata": {},
   "outputs": [],
   "source": [
    "dipole_x = [-7*wavelength/4, -5*wavelength/4, -3*wavelength/4, -wavelength/4, wavelength/4, 3*wavelength/4, 5*wavelength/4, 7*wavelength/4]\n",
    "dipole_y = [0, 0, 0, 0, 0, 0, 0, 0]\n",
    "dipole_z = [0, 0, 0, 0, 0, 0, 0, 0]\n",
    "delta = 2*np.pi/wavelength*(wavelength/2)*np.sin(0*np.pi/2)\n",
    "dipole_phase = [0, delta, 2*delta, 3*delta, 4*delta, 5*delta, 6*delta, 7*delta]"
   ]
  },
  {
   "cell_type": "code",
   "execution_count": null,
   "metadata": {},
   "outputs": [],
   "source": [
    "plot_radiation_pattern(dipole_x, dipole_y, dipole_z, dipole_phase)"
   ]
  },
  {
   "cell_type": "code",
   "execution_count": null,
   "metadata": {},
   "outputs": [],
   "source": []
  }
 ],
 "metadata": {
  "kernelspec": {
   "display_name": "Python 3 (ipykernel)",
   "language": "python",
   "name": "python3"
  },
  "language_info": {
   "codemirror_mode": {
    "name": "ipython",
    "version": 3
   },
   "file_extension": ".py",
   "mimetype": "text/x-python",
   "name": "python",
   "nbconvert_exporter": "python",
   "pygments_lexer": "ipython3",
   "version": "3.10.11"
  }
 },
 "nbformat": 4,
 "nbformat_minor": 4
}
